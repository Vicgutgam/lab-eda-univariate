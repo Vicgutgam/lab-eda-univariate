{
 "cells": [
  {
   "cell_type": "code",
   "execution_count": 46,
   "id": "f94e4e81",
   "metadata": {},
   "outputs": [],
   "source": [
    "import pandas as pd\n",
    "import matplotlib.pyplot as plt\n",
    "import pandas as pd\n",
    "import numpy as np\n",
    "import seaborn as sns"
   ]
  },
  {
   "cell_type": "code",
   "execution_count": 5,
   "id": "471bb50c",
   "metadata": {},
   "outputs": [],
   "source": [
    "dfam= pd.read_csv(\"amz_uk_price_prediction_dataset.csv\")"
   ]
  },
  {
   "cell_type": "code",
   "execution_count": 9,
   "id": "05ab2d33",
   "metadata": {},
   "outputs": [
    {
     "data": {
      "text/plain": [
       "(2443651, 9)"
      ]
     },
     "execution_count": 9,
     "metadata": {},
     "output_type": "execute_result"
    }
   ],
   "source": [
    "dfam.shape"
   ]
  },
  {
   "cell_type": "code",
   "execution_count": 12,
   "id": "5bebc13b",
   "metadata": {},
   "outputs": [
    {
     "data": {
      "text/html": [
       "<div>\n",
       "<style scoped>\n",
       "    .dataframe tbody tr th:only-of-type {\n",
       "        vertical-align: middle;\n",
       "    }\n",
       "\n",
       "    .dataframe tbody tr th {\n",
       "        vertical-align: top;\n",
       "    }\n",
       "\n",
       "    .dataframe thead th {\n",
       "        text-align: right;\n",
       "    }\n",
       "</style>\n",
       "<table border=\"1\" class=\"dataframe\">\n",
       "  <thead>\n",
       "    <tr style=\"text-align: right;\">\n",
       "      <th></th>\n",
       "      <th>uid</th>\n",
       "      <th>asin</th>\n",
       "      <th>title</th>\n",
       "      <th>stars</th>\n",
       "      <th>reviews</th>\n",
       "      <th>price</th>\n",
       "      <th>isBestSeller</th>\n",
       "      <th>boughtInLastMonth</th>\n",
       "      <th>category</th>\n",
       "    </tr>\n",
       "  </thead>\n",
       "  <tbody>\n",
       "    <tr>\n",
       "      <th>0</th>\n",
       "      <td>1</td>\n",
       "      <td>B09B96TG33</td>\n",
       "      <td>Echo Dot (5th generation, 2022 release) | Big ...</td>\n",
       "      <td>4.7</td>\n",
       "      <td>15308</td>\n",
       "      <td>21.99</td>\n",
       "      <td>False</td>\n",
       "      <td>0</td>\n",
       "      <td>Hi-Fi Speakers</td>\n",
       "    </tr>\n",
       "    <tr>\n",
       "      <th>1</th>\n",
       "      <td>2</td>\n",
       "      <td>B01HTH3C8S</td>\n",
       "      <td>Anker Soundcore mini, Super-Portable Bluetooth...</td>\n",
       "      <td>4.7</td>\n",
       "      <td>98099</td>\n",
       "      <td>23.99</td>\n",
       "      <td>True</td>\n",
       "      <td>0</td>\n",
       "      <td>Hi-Fi Speakers</td>\n",
       "    </tr>\n",
       "    <tr>\n",
       "      <th>2</th>\n",
       "      <td>3</td>\n",
       "      <td>B09B8YWXDF</td>\n",
       "      <td>Echo Dot (5th generation, 2022 release) | Big ...</td>\n",
       "      <td>4.7</td>\n",
       "      <td>15308</td>\n",
       "      <td>21.99</td>\n",
       "      <td>False</td>\n",
       "      <td>0</td>\n",
       "      <td>Hi-Fi Speakers</td>\n",
       "    </tr>\n",
       "    <tr>\n",
       "      <th>3</th>\n",
       "      <td>4</td>\n",
       "      <td>B09B8T5VGV</td>\n",
       "      <td>Echo Dot with clock (5th generation, 2022 rele...</td>\n",
       "      <td>4.7</td>\n",
       "      <td>7205</td>\n",
       "      <td>31.99</td>\n",
       "      <td>False</td>\n",
       "      <td>0</td>\n",
       "      <td>Hi-Fi Speakers</td>\n",
       "    </tr>\n",
       "    <tr>\n",
       "      <th>4</th>\n",
       "      <td>5</td>\n",
       "      <td>B09WX6QD65</td>\n",
       "      <td>Introducing Echo Pop | Full sound compact Wi-F...</td>\n",
       "      <td>4.6</td>\n",
       "      <td>1881</td>\n",
       "      <td>17.99</td>\n",
       "      <td>False</td>\n",
       "      <td>0</td>\n",
       "      <td>Hi-Fi Speakers</td>\n",
       "    </tr>\n",
       "    <tr>\n",
       "      <th>5</th>\n",
       "      <td>6</td>\n",
       "      <td>B09B97WSLF</td>\n",
       "      <td>Echo Dot with clock (5th generation, 2022 rele...</td>\n",
       "      <td>4.7</td>\n",
       "      <td>7205</td>\n",
       "      <td>31.99</td>\n",
       "      <td>False</td>\n",
       "      <td>0</td>\n",
       "      <td>Hi-Fi Speakers</td>\n",
       "    </tr>\n",
       "    <tr>\n",
       "      <th>6</th>\n",
       "      <td>7</td>\n",
       "      <td>B09B9615X2</td>\n",
       "      <td>Echo Dot (5th generation, 2022 release) | Big ...</td>\n",
       "      <td>4.7</td>\n",
       "      <td>15308</td>\n",
       "      <td>21.99</td>\n",
       "      <td>False</td>\n",
       "      <td>0</td>\n",
       "      <td>Hi-Fi Speakers</td>\n",
       "    </tr>\n",
       "    <tr>\n",
       "      <th>7</th>\n",
       "      <td>8</td>\n",
       "      <td>B01MTB55WH</td>\n",
       "      <td>Anker Soundcore 2 Portable Bluetooth Speaker w...</td>\n",
       "      <td>4.7</td>\n",
       "      <td>103673</td>\n",
       "      <td>39.99</td>\n",
       "      <td>False</td>\n",
       "      <td>0</td>\n",
       "      <td>Hi-Fi Speakers</td>\n",
       "    </tr>\n",
       "    <tr>\n",
       "      <th>8</th>\n",
       "      <td>9</td>\n",
       "      <td>B016MO90GW</td>\n",
       "      <td>Bluetooth Speaker, Anker Soundcore Speaker Upg...</td>\n",
       "      <td>4.7</td>\n",
       "      <td>29909</td>\n",
       "      <td>29.99</td>\n",
       "      <td>False</td>\n",
       "      <td>0</td>\n",
       "      <td>Hi-Fi Speakers</td>\n",
       "    </tr>\n",
       "    <tr>\n",
       "      <th>9</th>\n",
       "      <td>10</td>\n",
       "      <td>B09ZQF5GZW</td>\n",
       "      <td>RIENOK Bluetooth Speaker Portable Wireless Blu...</td>\n",
       "      <td>4.5</td>\n",
       "      <td>16014</td>\n",
       "      <td>29.99</td>\n",
       "      <td>False</td>\n",
       "      <td>0</td>\n",
       "      <td>Hi-Fi Speakers</td>\n",
       "    </tr>\n",
       "  </tbody>\n",
       "</table>\n",
       "</div>"
      ],
      "text/plain": [
       "   uid        asin                                              title  stars  \\\n",
       "0    1  B09B96TG33  Echo Dot (5th generation, 2022 release) | Big ...    4.7   \n",
       "1    2  B01HTH3C8S  Anker Soundcore mini, Super-Portable Bluetooth...    4.7   \n",
       "2    3  B09B8YWXDF  Echo Dot (5th generation, 2022 release) | Big ...    4.7   \n",
       "3    4  B09B8T5VGV  Echo Dot with clock (5th generation, 2022 rele...    4.7   \n",
       "4    5  B09WX6QD65  Introducing Echo Pop | Full sound compact Wi-F...    4.6   \n",
       "5    6  B09B97WSLF  Echo Dot with clock (5th generation, 2022 rele...    4.7   \n",
       "6    7  B09B9615X2  Echo Dot (5th generation, 2022 release) | Big ...    4.7   \n",
       "7    8  B01MTB55WH  Anker Soundcore 2 Portable Bluetooth Speaker w...    4.7   \n",
       "8    9  B016MO90GW  Bluetooth Speaker, Anker Soundcore Speaker Upg...    4.7   \n",
       "9   10  B09ZQF5GZW  RIENOK Bluetooth Speaker Portable Wireless Blu...    4.5   \n",
       "\n",
       "   reviews  price  isBestSeller  boughtInLastMonth        category  \n",
       "0    15308  21.99         False                  0  Hi-Fi Speakers  \n",
       "1    98099  23.99          True                  0  Hi-Fi Speakers  \n",
       "2    15308  21.99         False                  0  Hi-Fi Speakers  \n",
       "3     7205  31.99         False                  0  Hi-Fi Speakers  \n",
       "4     1881  17.99         False                  0  Hi-Fi Speakers  \n",
       "5     7205  31.99         False                  0  Hi-Fi Speakers  \n",
       "6    15308  21.99         False                  0  Hi-Fi Speakers  \n",
       "7   103673  39.99         False                  0  Hi-Fi Speakers  \n",
       "8    29909  29.99         False                  0  Hi-Fi Speakers  \n",
       "9    16014  29.99         False                  0  Hi-Fi Speakers  "
      ]
     },
     "execution_count": 12,
     "metadata": {},
     "output_type": "execute_result"
    }
   ],
   "source": [
    "dfam.head(10)"
   ]
  },
  {
   "cell_type": "markdown",
   "id": "dc08d3e8",
   "metadata": {},
   "source": [
    "\n",
    "###Part 1: Understanding Product Categories"
   ]
  },
  {
   "cell_type": "code",
   "execution_count": 31,
   "id": "76bef361",
   "metadata": {},
   "outputs": [
    {
     "data": {
      "text/plain": [
       "<Axes: xlabel='category'>"
      ]
     },
     "execution_count": 31,
     "metadata": {},
     "output_type": "execute_result"
    },
    {
     "data": {
      "image/png": "[encoded data removed]",
      "text/plain": [
       "<Figure size 640x480 with 1 Axes>"
      ]
     },
     "metadata": {},
     "output_type": "display_data"
    }
   ],
   "source": [
    "dfcate=dfam['category'].value_counts().head(5)\n",
    "dfcatepro=dfam['category'].value_counts(normalize=True).head(5)\n",
    "dfcate2 = pd.concat([dfcate, dfcatepro], axis=0)\n",
    "dfcate.plot.bar()"
   ]
  },
  {
   "cell_type": "markdown",
   "id": "56273629",
   "metadata": {},
   "source": [
    "###Part 2:Delving into Product Pricing"
   ]
  },
  {
   "cell_type": "markdown",
   "id": "fde16760",
   "metadata": {},
   "source": [
    "En el siguiente value_counts() podemos observar que hay un gran número de productos que comparten un mismo precio. Destaca también que existe una gran cantidad de ellos que terminan en 99 centimos"
   ]
  },
  {
   "cell_type": "code",
   "execution_count": 35,
   "id": "e2f575f5",
   "metadata": {},
   "outputs": [
    {
     "data": {
      "text/plain": [
       "price\n",
       "9.99       48922\n",
       "12.99      38823\n",
       "8.99       34058\n",
       "7.99       33632\n",
       "14.99      32570\n",
       "           ...  \n",
       "2398.99        1\n",
       "1453.08        1\n",
       "1785.63        1\n",
       "1347.36        1\n",
       "317.34         1\n",
       "Name: count, Length: 82916, dtype: int64"
      ]
     },
     "execution_count": 35,
     "metadata": {},
     "output_type": "execute_result"
    }
   ],
   "source": [
    "dfam['price'].value_counts()"
   ]
  },
  {
   "cell_type": "markdown",
   "id": "f5e8f39c",
   "metadata": {},
   "source": [
    "Calcule la media, mediana y moda del precio de los productos.\n",
    "¿Cuál es el precio promedio de los productos enumerados? ¿Cómo se compara esto con el precio más común (modo)?\n",
    "Medidas de dispersión:\n",
    "Determine la varianza, la desviación estándar, el rango y el rango intercuartil del precio del producto.\n",
    "¿Qué tan variados son los precios de los productos? ¿Hay algún indicador de una diferencia significativa en los precios?\n",
    "Visualizaciones:"
   ]
  },
  {
   "cell_type": "code",
   "execution_count": 37,
   "id": "038546e2",
   "metadata": {},
   "outputs": [
    {
     "data": {
      "text/plain": [
       "count    2443651.00\n",
       "mean          89.24\n",
       "std          345.61\n",
       "min            0.00\n",
       "25%            9.99\n",
       "50%           19.09\n",
       "75%           45.99\n",
       "max       100000.00\n",
       "Name: price, dtype: float64"
      ]
     },
     "execution_count": 37,
     "metadata": {},
     "output_type": "execute_result"
    }
   ],
   "source": [
    "dfam['price'].describe().round(2)"
   ]
  },
  {
   "cell_type": "markdown",
   "id": "fbeed502",
   "metadata": {},
   "source": [
    "Y aquí está la moda."
   ]
  },
  {
   "cell_type": "code",
   "execution_count": 65,
   "id": "73957e65",
   "metadata": {},
   "outputs": [
    {
     "data": {
      "text/plain": [
       "119445.48532256528"
      ]
     },
     "execution_count": 65,
     "metadata": {},
     "output_type": "execute_result"
    }
   ],
   "source": [
    "dfam['price'].var()"
   ]
  },
  {
   "cell_type": "code",
   "execution_count": 38,
   "id": "01fd4cfc",
   "metadata": {},
   "outputs": [
    {
     "data": {
      "text/plain": [
       "0    9.99\n",
       "Name: price, dtype: float64"
      ]
     },
     "execution_count": 38,
     "metadata": {},
     "output_type": "execute_result"
    }
   ],
   "source": [
    "dfam['price'].mode()"
   ]
  },
  {
   "cell_type": "markdown",
   "id": "9fdf8be2",
   "metadata": {},
   "source": [
    "Aqui se presenta un historiograma de los precios, pero al ser unos precios muy localizados no tiene sentido que se represente de esta manera. Posibles soluciones sería la representación por franjas de precios que sean menores en productos más bajos,de euro en euro, mientras que en los precios más altos se aglutinaran hasta de 1000 en 1000. Otra opción, por si hay grandes lagunas es cortar las grandes franjas sin valores para poder darle espacio a la representación de algunos."
   ]
  },
  {
   "cell_type": "code",
   "execution_count": 43,
   "id": "f199d25b",
   "metadata": {},
   "outputs": [
    {
     "data": {
      "text/plain": [
       "<Axes: ylabel='Frequency'>"
      ]
     },
     "execution_count": 43,
     "metadata": {},
     "output_type": "execute_result"
    },
    {
     "data": {
      "image/png": "[encoded data removed]",
      "text/plain": [
       "<Figure size 640x480 with 1 Axes>"
      ]
     },
     "metadata": {},
     "output_type": "display_data"
    }
   ],
   "source": [
    "dfam['price'].plot.hist()"
   ]
  },
  {
   "cell_type": "code",
   "execution_count": 47,
   "id": "084bb769",
   "metadata": {},
   "outputs": [
    {
     "data": {
      "text/plain": [
       "<Axes: >"
      ]
     },
     "execution_count": 47,
     "metadata": {},
     "output_type": "execute_result"
    },
    {
     "data": {
      "image/png": "[encoded data removed]",
      "text/plain": [
       "<Figure size 640x480 with 1 Axes>"
      ]
     },
     "metadata": {},
     "output_type": "display_data"
    }
   ],
   "source": [
    "sns.boxplot(data = dfam['price'], color=\"lightblue\")"
   ]
  },
  {
   "cell_type": "markdown",
   "id": "54f83601",
   "metadata": {},
   "source": [
    "Part 3: Unpacking Product Ratings."
   ]
  },
  {
   "cell_type": "code",
   "execution_count": 82,
   "id": "e6111575",
   "metadata": {},
   "outputs": [
    {
     "data": {
      "text/plain": [
       "4.81743402976196"
      ]
     },
     "execution_count": 82,
     "metadata": {},
     "output_type": "execute_result"
    }
   ],
   "source": [
    "dfam['stars'].round(2).var()"
   ]
  },
  {
   "cell_type": "code",
   "execution_count": 75,
   "id": "62c22291",
   "metadata": {},
   "outputs": [
    {
     "name": "stdout",
     "output_type": "stream",
     "text": [
      "La moda es: 0    0.0\n",
      "Name: stars, dtype: float64 La media es: 2.15 La mediana es: 0.0\n"
     ]
    }
   ],
   "source": [
    "print('La moda es:',dfam['stars'].mode(),'La media es:',dfam['stars'].mean().round(2),'La mediana es:',dfam['stars'].median())"
   ]
  },
  {
   "cell_type": "code",
   "execution_count": 78,
   "id": "45b8e8e3",
   "metadata": {},
   "outputs": [
    {
     "data": {
      "text/plain": [
       "count    2443651.00\n",
       "mean           2.15\n",
       "std            2.19\n",
       "min            0.00\n",
       "25%            0.00\n",
       "50%            0.00\n",
       "75%            4.40\n",
       "max            5.00\n",
       "Name: stars, dtype: float64"
      ]
     },
     "execution_count": 78,
     "metadata": {},
     "output_type": "execute_result"
    }
   ],
   "source": [
    "dfam['stars'].describe().round(2)"
   ]
  },
  {
   "cell_type": "code",
   "execution_count": 76,
   "id": "9b738dc5",
   "metadata": {},
   "outputs": [
    {
     "data": {
      "text/plain": [
       "<Axes: ylabel='Frequency'>"
      ]
     },
     "execution_count": 76,
     "metadata": {},
     "output_type": "execute_result"
    },
    {
     "data": {
      "image/png": "[encoded data removed]",
      "text/plain": [
       "<Figure size 640x480 with 1 Axes>"
      ]
     },
     "metadata": {},
     "output_type": "display_data"
    }
   ],
   "source": [
    "dfam['stars'].plot.hist()"
   ]
  },
  {
   "cell_type": "markdown",
   "id": "a0589763",
   "metadata": {},
   "source": [
    "Con estos datos nos surge la teoría de que si la gente no realiza la evaluación significa que no tiene puntos y por lo tanto es cero y este número aumenta mucho o, también puede darse el caso de que la gente no evalue tanto. Esto hace que los 0 sean tan importantes."
   ]
  },
  {
   "cell_type": "markdown",
   "id": "b2557ea1",
   "metadata": {},
   "source": [
    "CONCLUSIONES:\n",
    "    -Muchos productos con precios concretos y para su análisis tendríamos que concretar los arcos de análisis para compensar un poco la situación.\n",
    "    -Las evaluaciones no están bien recogidas o por lo menos reflejan una realidad que no tiene porque ser la realidad al 100%"
   ]
  },
  {
   "cell_type": "code",
   "execution_count": null,
   "id": "0fc3e3e7",
   "metadata": {},
   "outputs": [],
   "source": []
  }
 ],
 "metadata": {
  "kernelspec": {
   "display_name": "Python 3 (ipykernel)",
   "language": "python",
   "name": "python3"
  },
  "language_info": {
   "codemirror_mode": {
    "name": "ipython",
    "version": 3
   },
   "file_extension": ".py",
   "mimetype": "text/x-python",
   "name": "python",
   "nbconvert_exporter": "python",
   "pygments_lexer": "ipython3",
   "version": "3.11.5"
  }
 },
 "nbformat": 4,
 "nbformat_minor": 5
}
